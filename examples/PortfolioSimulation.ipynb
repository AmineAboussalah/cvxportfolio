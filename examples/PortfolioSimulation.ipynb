{
 "cells": [
  {
   "cell_type": "code",
   "execution_count": 1,
   "metadata": {},
   "outputs": [],
   "source": [
    "import os\n",
    "import sys\n",
    "sys.path.insert(0, os.path.abspath('..'))"
   ]
  },
  {
   "cell_type": "code",
   "execution_count": 2,
   "metadata": {},
   "outputs": [],
   "source": [
    "%load_ext autoreload\n",
    "%autoreload 2\n",
    "%matplotlib inline\n",
    "\n",
    "import pandas as pd\n",
    "import numpy as np\n",
    "import matplotlib.pyplot as plt\n",
    "import cvxportfolio as cp\n",
    "\n",
    "datadir='../data/'\n",
    "\n",
    "sigmas=pd.read_csv(datadir+'sigmas.csv.gz',index_col=0,parse_dates=[0]).iloc[:,:-1]\n",
    "returns=pd.read_csv(datadir+'returns.csv.gz',index_col=0,parse_dates=[0])\n",
    "volumes=pd.read_csv(datadir+'volumes.csv.gz',index_col=0,parse_dates=[0]).iloc[:,:-1]\n",
    "\n",
    "w_b = pd.Series(index=returns.columns, data=1)\n",
    "w_b.USDOLLAR = 0.\n",
    "w_b/=sum(w_b)\n",
    "\n",
    "start_t=\"2012-01-01\"\n",
    "end_t=\"2016-12-31\""
   ]
  },
  {
   "cell_type": "markdown",
   "metadata": {},
   "source": [
    "## Simulations"
   ]
  },
  {
   "cell_type": "code",
   "execution_count": 3,
   "metadata": {},
   "outputs": [],
   "source": [
    "simulated_tcost = cp.TcostModel(half_spread=0.0005/2., nonlin_coeff=1., sigma=sigmas, volume=volumes)\n",
    "simulated_hcost = cp.HcostModel(borrow_costs=0.0001)\n",
    "simulator = cp.MarketSimulator(returns, costs=[simulated_tcost, simulated_hcost],\n",
    "                               market_volumes=volumes, cash_key='USDOLLAR')\n",
    "\n",
    "policies = [cp.PeriodicRebalance(target=w_b, period=p) for p in ['day', 'week', 'month', 'quarter', 'year']]\n",
    "policies.append(cp.Hold())\n",
    "\n",
    "res = pd.DataFrame(index=['Daily','Weekly','Monthly','Quarterly','Annually','Hold'])\n",
    "for label, fund_val in [('\\$100M',1E8), ('\\$10B',1E10)]:\n",
    "    res[label] = simulator.run_multiple_backtest(fund_val*w_b, start_time=start_t, end_time=end_t, \n",
    "                                                 policies=policies, parallel=True)"
   ]
  },
  {
   "cell_type": "markdown",
   "metadata": {},
   "source": [
    "## Results "
   ]
  },
  {
   "cell_type": "code",
   "execution_count": 6,
   "metadata": {},
   "outputs": [
    {
     "data": {
      "text/html": [
       "<div>\n",
       "<style scoped>\n",
       "    .dataframe tbody tr th:only-of-type {\n",
       "        vertical-align: middle;\n",
       "    }\n",
       "\n",
       "    .dataframe tbody tr th {\n",
       "        vertical-align: top;\n",
       "    }\n",
       "\n",
       "    .dataframe thead th {\n",
       "        text-align: right;\n",
       "    }\n",
       "</style>\n",
       "<table border=\"1\" class=\"dataframe\">\n",
       "  <thead>\n",
       "    <tr style=\"text-align: right;\">\n",
       "      <th></th>\n",
       "      <th></th>\n",
       "      <th>Active return</th>\n",
       "      <th>Active risk</th>\n",
       "      <th>Trans. costs</th>\n",
       "      <th>Turnover</th>\n",
       "    </tr>\n",
       "  </thead>\n",
       "  <tbody>\n",
       "    <tr>\n",
       "      <th rowspan=\"6\" valign=\"top\">\\$100M</th>\n",
       "      <th>Daily</th>\n",
       "      <td>-0.08%</td>\n",
       "      <td>0.00%</td>\n",
       "      <td>0.08%</td>\n",
       "      <td>222.15%</td>\n",
       "    </tr>\n",
       "    <tr>\n",
       "      <th>Weekly</th>\n",
       "      <td>-0.07%</td>\n",
       "      <td>0.09%</td>\n",
       "      <td>0.04%</td>\n",
       "      <td>106.43%</td>\n",
       "    </tr>\n",
       "    <tr>\n",
       "      <th>Monthly</th>\n",
       "      <td>-0.13%</td>\n",
       "      <td>0.22%</td>\n",
       "      <td>0.02%</td>\n",
       "      <td>53.07%</td>\n",
       "    </tr>\n",
       "    <tr>\n",
       "      <th>Quarterly</th>\n",
       "      <td>-0.12%</td>\n",
       "      <td>0.36%</td>\n",
       "      <td>0.01%</td>\n",
       "      <td>30.17%</td>\n",
       "    </tr>\n",
       "    <tr>\n",
       "      <th>Annually</th>\n",
       "      <td>-0.06%</td>\n",
       "      <td>0.66%</td>\n",
       "      <td>0.01%</td>\n",
       "      <td>12.60%</td>\n",
       "    </tr>\n",
       "    <tr>\n",
       "      <th>Hold</th>\n",
       "      <td>-0.23%</td>\n",
       "      <td>1.63%</td>\n",
       "      <td>0.00%</td>\n",
       "      <td>0.00%</td>\n",
       "    </tr>\n",
       "    <tr>\n",
       "      <th rowspan=\"6\" valign=\"top\">\\$10B</th>\n",
       "      <th>Daily</th>\n",
       "      <td>-0.25%</td>\n",
       "      <td>0.01%</td>\n",
       "      <td>0.25%</td>\n",
       "      <td>222.15%</td>\n",
       "    </tr>\n",
       "    <tr>\n",
       "      <th>Weekly</th>\n",
       "      <td>-0.19%</td>\n",
       "      <td>0.09%</td>\n",
       "      <td>0.16%</td>\n",
       "      <td>106.44%</td>\n",
       "    </tr>\n",
       "    <tr>\n",
       "      <th>Monthly</th>\n",
       "      <td>-0.21%</td>\n",
       "      <td>0.22%</td>\n",
       "      <td>0.11%</td>\n",
       "      <td>53.07%</td>\n",
       "    </tr>\n",
       "    <tr>\n",
       "      <th>Quarterly</th>\n",
       "      <td>-0.18%</td>\n",
       "      <td>0.36%</td>\n",
       "      <td>0.08%</td>\n",
       "      <td>30.18%</td>\n",
       "    </tr>\n",
       "    <tr>\n",
       "      <th>Annually</th>\n",
       "      <td>-0.09%</td>\n",
       "      <td>0.66%</td>\n",
       "      <td>0.05%</td>\n",
       "      <td>12.61%</td>\n",
       "    </tr>\n",
       "    <tr>\n",
       "      <th>Hold</th>\n",
       "      <td>-0.23%</td>\n",
       "      <td>1.63%</td>\n",
       "      <td>0.00%</td>\n",
       "      <td>0.00%</td>\n",
       "    </tr>\n",
       "  </tbody>\n",
       "</table>\n",
       "</div>"
      ],
      "text/plain": [
       "                 Active return Active risk Trans. costs Turnover\n",
       "\\$100M Daily            -0.08%       0.00%        0.08%  222.15%\n",
       "       Weekly           -0.07%       0.09%        0.04%  106.43%\n",
       "       Monthly          -0.13%       0.22%        0.02%   53.07%\n",
       "       Quarterly        -0.12%       0.36%        0.01%   30.17%\n",
       "       Annually         -0.06%       0.66%        0.01%   12.60%\n",
       "       Hold             -0.23%       1.63%        0.00%    0.00%\n",
       "\\$10B  Daily            -0.25%       0.01%        0.25%  222.15%\n",
       "       Weekly           -0.19%       0.09%        0.16%  106.44%\n",
       "       Monthly          -0.21%       0.22%        0.11%   53.07%\n",
       "       Quarterly        -0.18%       0.36%        0.08%   30.18%\n",
       "       Annually         -0.09%       0.66%        0.05%   12.61%\n",
       "       Hold             -0.23%       1.63%        0.00%    0.00%"
      ]
     },
     "execution_count": 6,
     "metadata": {},
     "output_type": "execute_result"
    }
   ],
   "source": [
    "used_returns = returns.loc[(returns.index>=start_t)&(returns.index<=end_t)]\n",
    "benchmark_returns = pd.Series(index=used_returns.index, data=np.dot(used_returns.values, w_b.values))\n",
    "\n",
    "table=pd.DataFrame()\n",
    "table[r'Active return']=res.applymap(lambda res: 100*250*(res.returns - benchmark_returns).mean()).unstack()\n",
    "table[r'Active risk']= \\\n",
    "    res.applymap(lambda res: np.std(benchmark_returns - res.returns)*100*np.sqrt(250)).unstack()\n",
    "table[r'Trans. costs']=\\\n",
    "    res.applymap(lambda res: (res.simulator_TcostModel.sum(1)/res.v).mean() * 100 * 250).unstack()\n",
    "table[r'Turnover']= \\\n",
    "    res.applymap(lambda res: res.turnover.mean()*100.*250.).unstack()\n",
    "\n",
    "\n",
    "table_print=pd.DataFrame(table,copy=True)\n",
    "table_print.iloc[:,:]=table_print.iloc[:,:].applymap(lambda x: r'%.2f%%'%x )\n",
    "table_print"
   ]
  },
  {
   "cell_type": "markdown",
   "metadata": {},
   "source": [
    "# Plots "
   ]
  },
  {
   "cell_type": "code",
   "execution_count": 7,
   "metadata": {},
   "outputs": [
    {
     "data": {
      "image/png": "[encoded data removed]",
      "text/plain": [
       "<Figure size 576x360 with 1 Axes>"
      ]
     },
     "metadata": {
      "needs_background": "light"
     },
     "output_type": "display_data"
    }
   ],
   "source": [
    "plt.figure(figsize=(8,5))\n",
    "for v1 in table.index.levels[0][:]:\n",
    "    x = table.loc[v1]['Trans. costs']\n",
    "    y = table.loc[v1]['Active risk']\n",
    "    plt.plot(np.array(x),np.array(y), 'o-', label='$%s\\mathrm{%s}$'%(v1[:-1],v1[-1:]))\n",
    "plt.legend(loc='upper right')\n",
    "plt.xlabel('Transaction cost')\n",
    "plt.ylabel('Risk')\n",
    "\n",
    "import matplotlib.ticker as mtick\n",
    "ax = plt.gca()\n",
    "ax.xaxis.set_major_formatter(mtick.FormatStrFormatter('%.2f%%'))\n",
    "ax.yaxis.set_major_formatter(mtick.FormatStrFormatter('%.1f%%'))\n",
    "plt.savefig('basic_frontier.png')"
   ]
  }
 ],
 "metadata": {
  "anaconda-cloud": {},
  "kernelspec": {
   "display_name": "Python 3",
   "language": "python",
   "name": "python3"
  },
  "language_info": {
   "codemirror_mode": {
    "name": "ipython",
    "version": 3
   },
   "file_extension": ".py",
   "mimetype": "text/x-python",
   "name": "python",
   "nbconvert_exporter": "python",
   "pygments_lexer": "ipython3",
   "version": "3.7.3"
  }
 },
 "nbformat": 4,
 "nbformat_minor": 2
}
